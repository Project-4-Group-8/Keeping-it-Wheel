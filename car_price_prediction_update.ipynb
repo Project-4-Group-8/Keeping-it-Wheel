{
 "cells": [
  {
   "cell_type": "code",
   "execution_count": 1,
   "id": "d649bb14",
   "metadata": {
    "id": "d649bb14"
   },
   "outputs": [],
   "source": [
    "import pandas as pd"
   ]
  },
  {
   "cell_type": "code",
   "execution_count": 2,
   "id": "70a712b2",
   "metadata": {
    "id": "70a712b2"
   },
   "outputs": [],
   "source": [
    "#load the dataset into a panda dataframe\n",
    "df = pd.read_csv(\"Resources/carvana_carvana_car_sold-2022-08.csv\", index_col = False)\n",
    "df = df.head(2000)"
   ]
  },
  {
   "cell_type": "code",
   "execution_count": 3,
   "id": "3a44092c",
   "metadata": {
    "id": "3a44092c"
   },
   "outputs": [
    {
     "data": {
      "text/html": [
       "<div>\n",
       "<style scoped>\n",
       "    .dataframe tbody tr th:only-of-type {\n",
       "        vertical-align: middle;\n",
       "    }\n",
       "\n",
       "    .dataframe tbody tr th {\n",
       "        vertical-align: top;\n",
       "    }\n",
       "\n",
       "    .dataframe thead th {\n",
       "        text-align: right;\n",
       "    }\n",
       "</style>\n",
       "<table border=\"1\" class=\"dataframe\">\n",
       "  <thead>\n",
       "    <tr style=\"text-align: right;\">\n",
       "      <th></th>\n",
       "      <th>vehicle_id</th>\n",
       "      <th>stock_number</th>\n",
       "      <th>year</th>\n",
       "      <th>make</th>\n",
       "      <th>model</th>\n",
       "      <th>miles</th>\n",
       "      <th>trim</th>\n",
       "      <th>sold_price</th>\n",
       "      <th>discounted_sold_price</th>\n",
       "      <th>partnered_dealership</th>\n",
       "      <th>delivery_fee</th>\n",
       "      <th>earliest_delivery_date</th>\n",
       "      <th>sold_date</th>\n",
       "    </tr>\n",
       "  </thead>\n",
       "  <tbody>\n",
       "    <tr>\n",
       "      <th>0</th>\n",
       "      <td>2270123</td>\n",
       "      <td>2001646447</td>\n",
       "      <td>2014</td>\n",
       "      <td>Volkswagen</td>\n",
       "      <td>Jetta</td>\n",
       "      <td>53238</td>\n",
       "      <td>2.0L S</td>\n",
       "      <td>15990</td>\n",
       "      <td>15990</td>\n",
       "      <td>False</td>\n",
       "      <td>1490</td>\n",
       "      <td>2022-09-09T21:34:31.376Z</td>\n",
       "      <td>2022-08-31</td>\n",
       "    </tr>\n",
       "    <tr>\n",
       "      <th>1</th>\n",
       "      <td>2298228</td>\n",
       "      <td>2001690283</td>\n",
       "      <td>2015</td>\n",
       "      <td>Chevrolet</td>\n",
       "      <td>Volt</td>\n",
       "      <td>112160</td>\n",
       "      <td>base</td>\n",
       "      <td>17590</td>\n",
       "      <td>17590</td>\n",
       "      <td>False</td>\n",
       "      <td>790</td>\n",
       "      <td>2022-09-09T22:04:42.555Z</td>\n",
       "      <td>2022-08-31</td>\n",
       "    </tr>\n",
       "    <tr>\n",
       "      <th>2</th>\n",
       "      <td>2463098</td>\n",
       "      <td>2001933427</td>\n",
       "      <td>2015</td>\n",
       "      <td>Ford</td>\n",
       "      <td>Focus</td>\n",
       "      <td>57046</td>\n",
       "      <td>SE</td>\n",
       "      <td>14990</td>\n",
       "      <td>14990</td>\n",
       "      <td>False</td>\n",
       "      <td>0</td>\n",
       "      <td>2022-09-06T21:35:20.3145311Z</td>\n",
       "      <td>2022-08-31</td>\n",
       "    </tr>\n",
       "    <tr>\n",
       "      <th>3</th>\n",
       "      <td>2488480</td>\n",
       "      <td>2001977729</td>\n",
       "      <td>2013</td>\n",
       "      <td>Honda</td>\n",
       "      <td>Odyssey</td>\n",
       "      <td>103874</td>\n",
       "      <td>EX-L</td>\n",
       "      <td>18990</td>\n",
       "      <td>18990</td>\n",
       "      <td>False</td>\n",
       "      <td>490</td>\n",
       "      <td>2022-09-06T22:04:19.711928Z</td>\n",
       "      <td>2022-08-31</td>\n",
       "    </tr>\n",
       "    <tr>\n",
       "      <th>4</th>\n",
       "      <td>2183400</td>\n",
       "      <td>2001531442</td>\n",
       "      <td>2015</td>\n",
       "      <td>Chevrolet</td>\n",
       "      <td>Cruze</td>\n",
       "      <td>86301</td>\n",
       "      <td>1LT</td>\n",
       "      <td>13990</td>\n",
       "      <td>13990</td>\n",
       "      <td>False</td>\n",
       "      <td>790</td>\n",
       "      <td>2022-09-09T22:05:19.367Z</td>\n",
       "      <td>2022-08-31</td>\n",
       "    </tr>\n",
       "    <tr>\n",
       "      <th>...</th>\n",
       "      <td>...</td>\n",
       "      <td>...</td>\n",
       "      <td>...</td>\n",
       "      <td>...</td>\n",
       "      <td>...</td>\n",
       "      <td>...</td>\n",
       "      <td>...</td>\n",
       "      <td>...</td>\n",
       "      <td>...</td>\n",
       "      <td>...</td>\n",
       "      <td>...</td>\n",
       "      <td>...</td>\n",
       "      <td>...</td>\n",
       "    </tr>\n",
       "    <tr>\n",
       "      <th>1995</th>\n",
       "      <td>2267759</td>\n",
       "      <td>2001644736</td>\n",
       "      <td>2009</td>\n",
       "      <td>Chevrolet</td>\n",
       "      <td>Silverado 1500 Crew Cab</td>\n",
       "      <td>89485</td>\n",
       "      <td>LT 5 3/4 ft</td>\n",
       "      <td>21590</td>\n",
       "      <td>21590</td>\n",
       "      <td>False</td>\n",
       "      <td>490</td>\n",
       "      <td>2022-09-07T22:05:34.164Z</td>\n",
       "      <td>2022-08-30</td>\n",
       "    </tr>\n",
       "    <tr>\n",
       "      <th>1996</th>\n",
       "      <td>2485171</td>\n",
       "      <td>2001960987</td>\n",
       "      <td>2020</td>\n",
       "      <td>Ram</td>\n",
       "      <td>1500 Quad Cab</td>\n",
       "      <td>29226</td>\n",
       "      <td>Big Horn 6 1/3 ft</td>\n",
       "      <td>37990</td>\n",
       "      <td>37990</td>\n",
       "      <td>False</td>\n",
       "      <td>790</td>\n",
       "      <td>2022-09-05T21:05:00.9919701Z</td>\n",
       "      <td>2022-08-30</td>\n",
       "    </tr>\n",
       "    <tr>\n",
       "      <th>1997</th>\n",
       "      <td>2487925</td>\n",
       "      <td>2001981600</td>\n",
       "      <td>2019</td>\n",
       "      <td>Buick</td>\n",
       "      <td>Encore</td>\n",
       "      <td>30461</td>\n",
       "      <td>Preferred</td>\n",
       "      <td>22590</td>\n",
       "      <td>22590</td>\n",
       "      <td>False</td>\n",
       "      <td>1490</td>\n",
       "      <td>2022-09-08T20:59:23.861Z</td>\n",
       "      <td>2022-08-30</td>\n",
       "    </tr>\n",
       "    <tr>\n",
       "      <th>1998</th>\n",
       "      <td>2198671</td>\n",
       "      <td>2001540356</td>\n",
       "      <td>2017</td>\n",
       "      <td>Land Rover</td>\n",
       "      <td>Range Rover Evoque</td>\n",
       "      <td>55881</td>\n",
       "      <td>SE Premium</td>\n",
       "      <td>30590</td>\n",
       "      <td>30590</td>\n",
       "      <td>False</td>\n",
       "      <td>0</td>\n",
       "      <td>2022-09-04T21:34:58.971Z</td>\n",
       "      <td>2022-08-30</td>\n",
       "    </tr>\n",
       "    <tr>\n",
       "      <th>1999</th>\n",
       "      <td>2328929</td>\n",
       "      <td>2001652517</td>\n",
       "      <td>2015</td>\n",
       "      <td>Chevrolet</td>\n",
       "      <td>Cruze</td>\n",
       "      <td>44303</td>\n",
       "      <td>1LT</td>\n",
       "      <td>15590</td>\n",
       "      <td>15590</td>\n",
       "      <td>False</td>\n",
       "      <td>490</td>\n",
       "      <td>2022-09-05T21:36:25.4457457Z</td>\n",
       "      <td>2022-08-30</td>\n",
       "    </tr>\n",
       "  </tbody>\n",
       "</table>\n",
       "<p>2000 rows × 13 columns</p>\n",
       "</div>"
      ],
      "text/plain": [
       "      vehicle_id  stock_number  year        make                    model  \\\n",
       "0        2270123    2001646447  2014  Volkswagen                    Jetta   \n",
       "1        2298228    2001690283  2015   Chevrolet                     Volt   \n",
       "2        2463098    2001933427  2015        Ford                    Focus   \n",
       "3        2488480    2001977729  2013       Honda                  Odyssey   \n",
       "4        2183400    2001531442  2015   Chevrolet                    Cruze   \n",
       "...          ...           ...   ...         ...                      ...   \n",
       "1995     2267759    2001644736  2009   Chevrolet  Silverado 1500 Crew Cab   \n",
       "1996     2485171    2001960987  2020         Ram            1500 Quad Cab   \n",
       "1997     2487925    2001981600  2019       Buick                   Encore   \n",
       "1998     2198671    2001540356  2017  Land Rover       Range Rover Evoque   \n",
       "1999     2328929    2001652517  2015   Chevrolet                    Cruze   \n",
       "\n",
       "       miles               trim  sold_price  discounted_sold_price  \\\n",
       "0      53238             2.0L S       15990                  15990   \n",
       "1     112160               base       17590                  17590   \n",
       "2      57046                 SE       14990                  14990   \n",
       "3     103874               EX-L       18990                  18990   \n",
       "4      86301                1LT       13990                  13990   \n",
       "...      ...                ...         ...                    ...   \n",
       "1995   89485        LT 5 3/4 ft       21590                  21590   \n",
       "1996   29226  Big Horn 6 1/3 ft       37990                  37990   \n",
       "1997   30461          Preferred       22590                  22590   \n",
       "1998   55881         SE Premium       30590                  30590   \n",
       "1999   44303                1LT       15590                  15590   \n",
       "\n",
       "      partnered_dealership  delivery_fee        earliest_delivery_date  \\\n",
       "0                    False          1490      2022-09-09T21:34:31.376Z   \n",
       "1                    False           790      2022-09-09T22:04:42.555Z   \n",
       "2                    False             0  2022-09-06T21:35:20.3145311Z   \n",
       "3                    False           490   2022-09-06T22:04:19.711928Z   \n",
       "4                    False           790      2022-09-09T22:05:19.367Z   \n",
       "...                    ...           ...                           ...   \n",
       "1995                 False           490      2022-09-07T22:05:34.164Z   \n",
       "1996                 False           790  2022-09-05T21:05:00.9919701Z   \n",
       "1997                 False          1490      2022-09-08T20:59:23.861Z   \n",
       "1998                 False             0      2022-09-04T21:34:58.971Z   \n",
       "1999                 False           490  2022-09-05T21:36:25.4457457Z   \n",
       "\n",
       "       sold_date  \n",
       "0     2022-08-31  \n",
       "1     2022-08-31  \n",
       "2     2022-08-31  \n",
       "3     2022-08-31  \n",
       "4     2022-08-31  \n",
       "...          ...  \n",
       "1995  2022-08-30  \n",
       "1996  2022-08-30  \n",
       "1997  2022-08-30  \n",
       "1998  2022-08-30  \n",
       "1999  2022-08-30  \n",
       "\n",
       "[2000 rows x 13 columns]"
      ]
     },
     "execution_count": 3,
     "metadata": {},
     "output_type": "execute_result"
    }
   ],
   "source": [
    "df_new = df.dropna()\n",
    "df_new"
   ]
  },
  {
   "cell_type": "code",
   "execution_count": 4,
   "id": "fca81508",
   "metadata": {
    "id": "fca81508"
   },
   "outputs": [],
   "source": [
    "%matplotlib inline\n",
    "from matplotlib import pyplot as plt\n",
    "#from sklearn.datasets import make_classification\n",
    "import numpy as np\n",
    "import pandas as pd\n",
    "from sklearn.ensemble import RandomForestClassifier\n",
    "from sklearn.linear_model import LogisticRegression\n",
    "from sklearn.model_selection import train_test_split\n",
    "from sklearn.preprocessing import StandardScaler"
   ]
  },
  {
   "cell_type": "code",
   "execution_count": 5,
   "id": "064e97d4",
   "metadata": {
    "colab": {
     "base_uri": "https://localhost:8080/",
     "height": 502
    },
    "id": "064e97d4",
    "outputId": "298269bf-f9d8-4062-e2ab-66ac6c6d2110"
   },
   "outputs": [
    {
     "data": {
      "text/html": [
       "<div>\n",
       "<style scoped>\n",
       "    .dataframe tbody tr th:only-of-type {\n",
       "        vertical-align: middle;\n",
       "    }\n",
       "\n",
       "    .dataframe tbody tr th {\n",
       "        vertical-align: top;\n",
       "    }\n",
       "\n",
       "    .dataframe thead th {\n",
       "        text-align: right;\n",
       "    }\n",
       "</style>\n",
       "<table border=\"1\" class=\"dataframe\">\n",
       "  <thead>\n",
       "    <tr style=\"text-align: right;\">\n",
       "      <th></th>\n",
       "      <th>year</th>\n",
       "      <th>make</th>\n",
       "      <th>model</th>\n",
       "      <th>miles</th>\n",
       "      <th>trim</th>\n",
       "      <th>sold_price</th>\n",
       "      <th>delivery_fee</th>\n",
       "    </tr>\n",
       "  </thead>\n",
       "  <tbody>\n",
       "    <tr>\n",
       "      <th>0</th>\n",
       "      <td>2014</td>\n",
       "      <td>Volkswagen</td>\n",
       "      <td>Jetta</td>\n",
       "      <td>53238</td>\n",
       "      <td>2.0L S</td>\n",
       "      <td>15990</td>\n",
       "      <td>1490</td>\n",
       "    </tr>\n",
       "    <tr>\n",
       "      <th>1</th>\n",
       "      <td>2015</td>\n",
       "      <td>Chevrolet</td>\n",
       "      <td>Volt</td>\n",
       "      <td>112160</td>\n",
       "      <td>base</td>\n",
       "      <td>17590</td>\n",
       "      <td>790</td>\n",
       "    </tr>\n",
       "    <tr>\n",
       "      <th>2</th>\n",
       "      <td>2015</td>\n",
       "      <td>Ford</td>\n",
       "      <td>Focus</td>\n",
       "      <td>57046</td>\n",
       "      <td>SE</td>\n",
       "      <td>14990</td>\n",
       "      <td>0</td>\n",
       "    </tr>\n",
       "    <tr>\n",
       "      <th>3</th>\n",
       "      <td>2013</td>\n",
       "      <td>Honda</td>\n",
       "      <td>Odyssey</td>\n",
       "      <td>103874</td>\n",
       "      <td>EX-L</td>\n",
       "      <td>18990</td>\n",
       "      <td>490</td>\n",
       "    </tr>\n",
       "    <tr>\n",
       "      <th>4</th>\n",
       "      <td>2015</td>\n",
       "      <td>Chevrolet</td>\n",
       "      <td>Cruze</td>\n",
       "      <td>86301</td>\n",
       "      <td>1LT</td>\n",
       "      <td>13990</td>\n",
       "      <td>790</td>\n",
       "    </tr>\n",
       "    <tr>\n",
       "      <th>...</th>\n",
       "      <td>...</td>\n",
       "      <td>...</td>\n",
       "      <td>...</td>\n",
       "      <td>...</td>\n",
       "      <td>...</td>\n",
       "      <td>...</td>\n",
       "      <td>...</td>\n",
       "    </tr>\n",
       "    <tr>\n",
       "      <th>1995</th>\n",
       "      <td>2009</td>\n",
       "      <td>Chevrolet</td>\n",
       "      <td>Silverado 1500 Crew Cab</td>\n",
       "      <td>89485</td>\n",
       "      <td>LT 5 3/4 ft</td>\n",
       "      <td>21590</td>\n",
       "      <td>490</td>\n",
       "    </tr>\n",
       "    <tr>\n",
       "      <th>1996</th>\n",
       "      <td>2020</td>\n",
       "      <td>Ram</td>\n",
       "      <td>1500 Quad Cab</td>\n",
       "      <td>29226</td>\n",
       "      <td>Big Horn 6 1/3 ft</td>\n",
       "      <td>37990</td>\n",
       "      <td>790</td>\n",
       "    </tr>\n",
       "    <tr>\n",
       "      <th>1997</th>\n",
       "      <td>2019</td>\n",
       "      <td>Buick</td>\n",
       "      <td>Encore</td>\n",
       "      <td>30461</td>\n",
       "      <td>Preferred</td>\n",
       "      <td>22590</td>\n",
       "      <td>1490</td>\n",
       "    </tr>\n",
       "    <tr>\n",
       "      <th>1998</th>\n",
       "      <td>2017</td>\n",
       "      <td>Land Rover</td>\n",
       "      <td>Range Rover Evoque</td>\n",
       "      <td>55881</td>\n",
       "      <td>SE Premium</td>\n",
       "      <td>30590</td>\n",
       "      <td>0</td>\n",
       "    </tr>\n",
       "    <tr>\n",
       "      <th>1999</th>\n",
       "      <td>2015</td>\n",
       "      <td>Chevrolet</td>\n",
       "      <td>Cruze</td>\n",
       "      <td>44303</td>\n",
       "      <td>1LT</td>\n",
       "      <td>15590</td>\n",
       "      <td>490</td>\n",
       "    </tr>\n",
       "  </tbody>\n",
       "</table>\n",
       "<p>2000 rows × 7 columns</p>\n",
       "</div>"
      ],
      "text/plain": [
       "      year        make                    model   miles               trim  \\\n",
       "0     2014  Volkswagen                    Jetta   53238             2.0L S   \n",
       "1     2015   Chevrolet                     Volt  112160               base   \n",
       "2     2015        Ford                    Focus   57046                 SE   \n",
       "3     2013       Honda                  Odyssey  103874               EX-L   \n",
       "4     2015   Chevrolet                    Cruze   86301                1LT   \n",
       "...    ...         ...                      ...     ...                ...   \n",
       "1995  2009   Chevrolet  Silverado 1500 Crew Cab   89485        LT 5 3/4 ft   \n",
       "1996  2020         Ram            1500 Quad Cab   29226  Big Horn 6 1/3 ft   \n",
       "1997  2019       Buick                   Encore   30461          Preferred   \n",
       "1998  2017  Land Rover       Range Rover Evoque   55881         SE Premium   \n",
       "1999  2015   Chevrolet                    Cruze   44303                1LT   \n",
       "\n",
       "      sold_price  delivery_fee  \n",
       "0          15990          1490  \n",
       "1          17590           790  \n",
       "2          14990             0  \n",
       "3          18990           490  \n",
       "4          13990           790  \n",
       "...          ...           ...  \n",
       "1995       21590           490  \n",
       "1996       37990           790  \n",
       "1997       22590          1490  \n",
       "1998       30590             0  \n",
       "1999       15590           490  \n",
       "\n",
       "[2000 rows x 7 columns]"
      ]
     },
     "execution_count": 5,
     "metadata": {},
     "output_type": "execute_result"
    }
   ],
   "source": [
    "df_car = df_new.drop(columns = [\"vehicle_id\", \"stock_number\",\"discounted_sold_price\",\"partnered_dealership\",\"earliest_delivery_date\",\"sold_date\"])\n",
    "df_car"
   ]
  },
  {
   "cell_type": "code",
   "execution_count": 6,
   "id": "45353760",
   "metadata": {
    "colab": {
     "base_uri": "https://localhost:8080/"
    },
    "id": "45353760",
    "outputId": "55b83657-038e-447f-f4b0-26ab5cdc6a72"
   },
   "outputs": [
    {
     "data": {
      "text/plain": [
       "year             int64\n",
       "make            object\n",
       "model           object\n",
       "miles            int64\n",
       "trim            object\n",
       "sold_price       int64\n",
       "delivery_fee     int64\n",
       "dtype: object"
      ]
     },
     "execution_count": 6,
     "metadata": {},
     "output_type": "execute_result"
    }
   ],
   "source": [
    "df_car.dtypes"
   ]
  },
  {
   "cell_type": "code",
   "execution_count": 7,
   "id": "1e7dfabb",
   "metadata": {
    "colab": {
     "base_uri": "https://localhost:8080/"
    },
    "id": "1e7dfabb",
    "outputId": "cc71ce71-56ef-441b-c2c6-430c03746290"
   },
   "outputs": [
    {
     "data": {
      "text/plain": [
       "0"
      ]
     },
     "execution_count": 7,
     "metadata": {},
     "output_type": "execute_result"
    }
   ],
   "source": [
    "df_car.duplicated().sum()"
   ]
  },
  {
   "cell_type": "code",
   "execution_count": 8,
   "id": "3bff092a",
   "metadata": {
    "colab": {
     "base_uri": "https://localhost:8080/",
     "height": 502
    },
    "id": "3bff092a",
    "outputId": "5b341029-0107-4a35-a381-04d923586b8e"
   },
   "outputs": [
    {
     "data": {
      "text/html": [
       "<div>\n",
       "<style scoped>\n",
       "    .dataframe tbody tr th:only-of-type {\n",
       "        vertical-align: middle;\n",
       "    }\n",
       "\n",
       "    .dataframe tbody tr th {\n",
       "        vertical-align: top;\n",
       "    }\n",
       "\n",
       "    .dataframe thead th {\n",
       "        text-align: right;\n",
       "    }\n",
       "</style>\n",
       "<table border=\"1\" class=\"dataframe\">\n",
       "  <thead>\n",
       "    <tr style=\"text-align: right;\">\n",
       "      <th></th>\n",
       "      <th>year</th>\n",
       "      <th>make</th>\n",
       "      <th>model</th>\n",
       "      <th>miles</th>\n",
       "      <th>trim</th>\n",
       "      <th>sold_price</th>\n",
       "      <th>delivery_fee</th>\n",
       "    </tr>\n",
       "  </thead>\n",
       "  <tbody>\n",
       "    <tr>\n",
       "      <th>0</th>\n",
       "      <td>2014</td>\n",
       "      <td>Volkswagen</td>\n",
       "      <td>Jetta</td>\n",
       "      <td>53238</td>\n",
       "      <td>2.0L S</td>\n",
       "      <td>15990</td>\n",
       "      <td>1490</td>\n",
       "    </tr>\n",
       "    <tr>\n",
       "      <th>1</th>\n",
       "      <td>2015</td>\n",
       "      <td>Chevrolet</td>\n",
       "      <td>Volt</td>\n",
       "      <td>112160</td>\n",
       "      <td>base</td>\n",
       "      <td>17590</td>\n",
       "      <td>790</td>\n",
       "    </tr>\n",
       "    <tr>\n",
       "      <th>2</th>\n",
       "      <td>2015</td>\n",
       "      <td>Ford</td>\n",
       "      <td>Focus</td>\n",
       "      <td>57046</td>\n",
       "      <td>SE</td>\n",
       "      <td>14990</td>\n",
       "      <td>0</td>\n",
       "    </tr>\n",
       "    <tr>\n",
       "      <th>3</th>\n",
       "      <td>2013</td>\n",
       "      <td>Honda</td>\n",
       "      <td>Odyssey</td>\n",
       "      <td>103874</td>\n",
       "      <td>EX-L</td>\n",
       "      <td>18990</td>\n",
       "      <td>490</td>\n",
       "    </tr>\n",
       "    <tr>\n",
       "      <th>4</th>\n",
       "      <td>2015</td>\n",
       "      <td>Chevrolet</td>\n",
       "      <td>Cruze</td>\n",
       "      <td>86301</td>\n",
       "      <td>1LT</td>\n",
       "      <td>13990</td>\n",
       "      <td>790</td>\n",
       "    </tr>\n",
       "    <tr>\n",
       "      <th>...</th>\n",
       "      <td>...</td>\n",
       "      <td>...</td>\n",
       "      <td>...</td>\n",
       "      <td>...</td>\n",
       "      <td>...</td>\n",
       "      <td>...</td>\n",
       "      <td>...</td>\n",
       "    </tr>\n",
       "    <tr>\n",
       "      <th>1995</th>\n",
       "      <td>2009</td>\n",
       "      <td>Chevrolet</td>\n",
       "      <td>Silverado 1500 Crew Cab</td>\n",
       "      <td>89485</td>\n",
       "      <td>LT 5 3/4 ft</td>\n",
       "      <td>21590</td>\n",
       "      <td>490</td>\n",
       "    </tr>\n",
       "    <tr>\n",
       "      <th>1996</th>\n",
       "      <td>2020</td>\n",
       "      <td>Ram</td>\n",
       "      <td>1500 Quad Cab</td>\n",
       "      <td>29226</td>\n",
       "      <td>Big Horn 6 1/3 ft</td>\n",
       "      <td>37990</td>\n",
       "      <td>790</td>\n",
       "    </tr>\n",
       "    <tr>\n",
       "      <th>1997</th>\n",
       "      <td>2019</td>\n",
       "      <td>Buick</td>\n",
       "      <td>Encore</td>\n",
       "      <td>30461</td>\n",
       "      <td>Preferred</td>\n",
       "      <td>22590</td>\n",
       "      <td>1490</td>\n",
       "    </tr>\n",
       "    <tr>\n",
       "      <th>1998</th>\n",
       "      <td>2017</td>\n",
       "      <td>Land Rover</td>\n",
       "      <td>Range Rover Evoque</td>\n",
       "      <td>55881</td>\n",
       "      <td>SE Premium</td>\n",
       "      <td>30590</td>\n",
       "      <td>0</td>\n",
       "    </tr>\n",
       "    <tr>\n",
       "      <th>1999</th>\n",
       "      <td>2015</td>\n",
       "      <td>Chevrolet</td>\n",
       "      <td>Cruze</td>\n",
       "      <td>44303</td>\n",
       "      <td>1LT</td>\n",
       "      <td>15590</td>\n",
       "      <td>490</td>\n",
       "    </tr>\n",
       "  </tbody>\n",
       "</table>\n",
       "<p>2000 rows × 7 columns</p>\n",
       "</div>"
      ],
      "text/plain": [
       "      year        make                    model   miles               trim  \\\n",
       "0     2014  Volkswagen                    Jetta   53238             2.0L S   \n",
       "1     2015   Chevrolet                     Volt  112160               base   \n",
       "2     2015        Ford                    Focus   57046                 SE   \n",
       "3     2013       Honda                  Odyssey  103874               EX-L   \n",
       "4     2015   Chevrolet                    Cruze   86301                1LT   \n",
       "...    ...         ...                      ...     ...                ...   \n",
       "1995  2009   Chevrolet  Silverado 1500 Crew Cab   89485        LT 5 3/4 ft   \n",
       "1996  2020         Ram            1500 Quad Cab   29226  Big Horn 6 1/3 ft   \n",
       "1997  2019       Buick                   Encore   30461          Preferred   \n",
       "1998  2017  Land Rover       Range Rover Evoque   55881         SE Premium   \n",
       "1999  2015   Chevrolet                    Cruze   44303                1LT   \n",
       "\n",
       "      sold_price  delivery_fee  \n",
       "0          15990          1490  \n",
       "1          17590           790  \n",
       "2          14990             0  \n",
       "3          18990           490  \n",
       "4          13990           790  \n",
       "...          ...           ...  \n",
       "1995       21590           490  \n",
       "1996       37990           790  \n",
       "1997       22590          1490  \n",
       "1998       30590             0  \n",
       "1999       15590           490  \n",
       "\n",
       "[2000 rows x 7 columns]"
      ]
     },
     "execution_count": 8,
     "metadata": {},
     "output_type": "execute_result"
    }
   ],
   "source": [
    "Final_car_price = df_car.drop_duplicates()\n",
    "Final_car_price_pred = pd.DataFrame(Final_car_price)\n",
    "Final_car_price_pred "
   ]
  },
  {
   "cell_type": "markdown",
   "id": "35ccd351",
   "metadata": {
    "id": "35ccd351"
   },
   "source": [
    "# Fit, Model, Predict"
   ]
  },
  {
   "cell_type": "code",
   "execution_count": 9,
   "id": "720356ef",
   "metadata": {
    "colab": {
     "base_uri": "https://localhost:8080/",
     "height": 644
    },
    "id": "720356ef",
    "outputId": "355fe062-e6d8-4961-c694-dd04aaca302a"
   },
   "outputs": [
    {
     "name": "stdout",
     "output_type": "stream",
     "text": [
      "Index(['year', 'miles', 'delivery_fee', 'make_Acura', 'make_Alfa Romeo',\n",
      "       'make_Audi', 'make_BMW', 'make_Buick', 'make_Cadillac',\n",
      "       'make_Chevrolet',\n",
      "       ...\n",
      "       'trim_i Touring', 'trim_s Grand Touring', 'trim_sDrive28i',\n",
      "       'trim_sDrive30i', 'trim_xDrive28i', 'trim_xDrive35i',\n",
      "       'trim_xDrive35i Premium', 'trim_xDrive35i Sport Activity',\n",
      "       'trim_xDrive40i', 'trim_xDrive50i'],\n",
      "      dtype='object', length=910)\n"
     ]
    },
    {
     "data": {
      "text/html": [
       "<div>\n",
       "<style scoped>\n",
       "    .dataframe tbody tr th:only-of-type {\n",
       "        vertical-align: middle;\n",
       "    }\n",
       "\n",
       "    .dataframe tbody tr th {\n",
       "        vertical-align: top;\n",
       "    }\n",
       "\n",
       "    .dataframe thead th {\n",
       "        text-align: right;\n",
       "    }\n",
       "</style>\n",
       "<table border=\"1\" class=\"dataframe\">\n",
       "  <thead>\n",
       "    <tr style=\"text-align: right;\">\n",
       "      <th></th>\n",
       "      <th>year</th>\n",
       "      <th>miles</th>\n",
       "      <th>delivery_fee</th>\n",
       "      <th>make_Acura</th>\n",
       "      <th>make_Alfa Romeo</th>\n",
       "      <th>make_Audi</th>\n",
       "      <th>make_BMW</th>\n",
       "      <th>make_Buick</th>\n",
       "      <th>make_Cadillac</th>\n",
       "      <th>make_Chevrolet</th>\n",
       "      <th>...</th>\n",
       "      <th>trim_i Touring</th>\n",
       "      <th>trim_s Grand Touring</th>\n",
       "      <th>trim_sDrive28i</th>\n",
       "      <th>trim_sDrive30i</th>\n",
       "      <th>trim_xDrive28i</th>\n",
       "      <th>trim_xDrive35i</th>\n",
       "      <th>trim_xDrive35i Premium</th>\n",
       "      <th>trim_xDrive35i Sport Activity</th>\n",
       "      <th>trim_xDrive40i</th>\n",
       "      <th>trim_xDrive50i</th>\n",
       "    </tr>\n",
       "  </thead>\n",
       "  <tbody>\n",
       "    <tr>\n",
       "      <th>0</th>\n",
       "      <td>2014</td>\n",
       "      <td>53238</td>\n",
       "      <td>1490</td>\n",
       "      <td>0</td>\n",
       "      <td>0</td>\n",
       "      <td>0</td>\n",
       "      <td>0</td>\n",
       "      <td>0</td>\n",
       "      <td>0</td>\n",
       "      <td>0</td>\n",
       "      <td>...</td>\n",
       "      <td>0</td>\n",
       "      <td>0</td>\n",
       "      <td>0</td>\n",
       "      <td>0</td>\n",
       "      <td>0</td>\n",
       "      <td>0</td>\n",
       "      <td>0</td>\n",
       "      <td>0</td>\n",
       "      <td>0</td>\n",
       "      <td>0</td>\n",
       "    </tr>\n",
       "    <tr>\n",
       "      <th>1</th>\n",
       "      <td>2015</td>\n",
       "      <td>112160</td>\n",
       "      <td>790</td>\n",
       "      <td>0</td>\n",
       "      <td>0</td>\n",
       "      <td>0</td>\n",
       "      <td>0</td>\n",
       "      <td>0</td>\n",
       "      <td>0</td>\n",
       "      <td>1</td>\n",
       "      <td>...</td>\n",
       "      <td>0</td>\n",
       "      <td>0</td>\n",
       "      <td>0</td>\n",
       "      <td>0</td>\n",
       "      <td>0</td>\n",
       "      <td>0</td>\n",
       "      <td>0</td>\n",
       "      <td>0</td>\n",
       "      <td>0</td>\n",
       "      <td>0</td>\n",
       "    </tr>\n",
       "    <tr>\n",
       "      <th>2</th>\n",
       "      <td>2015</td>\n",
       "      <td>57046</td>\n",
       "      <td>0</td>\n",
       "      <td>0</td>\n",
       "      <td>0</td>\n",
       "      <td>0</td>\n",
       "      <td>0</td>\n",
       "      <td>0</td>\n",
       "      <td>0</td>\n",
       "      <td>0</td>\n",
       "      <td>...</td>\n",
       "      <td>0</td>\n",
       "      <td>0</td>\n",
       "      <td>0</td>\n",
       "      <td>0</td>\n",
       "      <td>0</td>\n",
       "      <td>0</td>\n",
       "      <td>0</td>\n",
       "      <td>0</td>\n",
       "      <td>0</td>\n",
       "      <td>0</td>\n",
       "    </tr>\n",
       "    <tr>\n",
       "      <th>3</th>\n",
       "      <td>2013</td>\n",
       "      <td>103874</td>\n",
       "      <td>490</td>\n",
       "      <td>0</td>\n",
       "      <td>0</td>\n",
       "      <td>0</td>\n",
       "      <td>0</td>\n",
       "      <td>0</td>\n",
       "      <td>0</td>\n",
       "      <td>0</td>\n",
       "      <td>...</td>\n",
       "      <td>0</td>\n",
       "      <td>0</td>\n",
       "      <td>0</td>\n",
       "      <td>0</td>\n",
       "      <td>0</td>\n",
       "      <td>0</td>\n",
       "      <td>0</td>\n",
       "      <td>0</td>\n",
       "      <td>0</td>\n",
       "      <td>0</td>\n",
       "    </tr>\n",
       "    <tr>\n",
       "      <th>4</th>\n",
       "      <td>2015</td>\n",
       "      <td>86301</td>\n",
       "      <td>790</td>\n",
       "      <td>0</td>\n",
       "      <td>0</td>\n",
       "      <td>0</td>\n",
       "      <td>0</td>\n",
       "      <td>0</td>\n",
       "      <td>0</td>\n",
       "      <td>1</td>\n",
       "      <td>...</td>\n",
       "      <td>0</td>\n",
       "      <td>0</td>\n",
       "      <td>0</td>\n",
       "      <td>0</td>\n",
       "      <td>0</td>\n",
       "      <td>0</td>\n",
       "      <td>0</td>\n",
       "      <td>0</td>\n",
       "      <td>0</td>\n",
       "      <td>0</td>\n",
       "    </tr>\n",
       "    <tr>\n",
       "      <th>...</th>\n",
       "      <td>...</td>\n",
       "      <td>...</td>\n",
       "      <td>...</td>\n",
       "      <td>...</td>\n",
       "      <td>...</td>\n",
       "      <td>...</td>\n",
       "      <td>...</td>\n",
       "      <td>...</td>\n",
       "      <td>...</td>\n",
       "      <td>...</td>\n",
       "      <td>...</td>\n",
       "      <td>...</td>\n",
       "      <td>...</td>\n",
       "      <td>...</td>\n",
       "      <td>...</td>\n",
       "      <td>...</td>\n",
       "      <td>...</td>\n",
       "      <td>...</td>\n",
       "      <td>...</td>\n",
       "      <td>...</td>\n",
       "      <td>...</td>\n",
       "    </tr>\n",
       "    <tr>\n",
       "      <th>1995</th>\n",
       "      <td>2009</td>\n",
       "      <td>89485</td>\n",
       "      <td>490</td>\n",
       "      <td>0</td>\n",
       "      <td>0</td>\n",
       "      <td>0</td>\n",
       "      <td>0</td>\n",
       "      <td>0</td>\n",
       "      <td>0</td>\n",
       "      <td>1</td>\n",
       "      <td>...</td>\n",
       "      <td>0</td>\n",
       "      <td>0</td>\n",
       "      <td>0</td>\n",
       "      <td>0</td>\n",
       "      <td>0</td>\n",
       "      <td>0</td>\n",
       "      <td>0</td>\n",
       "      <td>0</td>\n",
       "      <td>0</td>\n",
       "      <td>0</td>\n",
       "    </tr>\n",
       "    <tr>\n",
       "      <th>1996</th>\n",
       "      <td>2020</td>\n",
       "      <td>29226</td>\n",
       "      <td>790</td>\n",
       "      <td>0</td>\n",
       "      <td>0</td>\n",
       "      <td>0</td>\n",
       "      <td>0</td>\n",
       "      <td>0</td>\n",
       "      <td>0</td>\n",
       "      <td>0</td>\n",
       "      <td>...</td>\n",
       "      <td>0</td>\n",
       "      <td>0</td>\n",
       "      <td>0</td>\n",
       "      <td>0</td>\n",
       "      <td>0</td>\n",
       "      <td>0</td>\n",
       "      <td>0</td>\n",
       "      <td>0</td>\n",
       "      <td>0</td>\n",
       "      <td>0</td>\n",
       "    </tr>\n",
       "    <tr>\n",
       "      <th>1997</th>\n",
       "      <td>2019</td>\n",
       "      <td>30461</td>\n",
       "      <td>1490</td>\n",
       "      <td>0</td>\n",
       "      <td>0</td>\n",
       "      <td>0</td>\n",
       "      <td>0</td>\n",
       "      <td>1</td>\n",
       "      <td>0</td>\n",
       "      <td>0</td>\n",
       "      <td>...</td>\n",
       "      <td>0</td>\n",
       "      <td>0</td>\n",
       "      <td>0</td>\n",
       "      <td>0</td>\n",
       "      <td>0</td>\n",
       "      <td>0</td>\n",
       "      <td>0</td>\n",
       "      <td>0</td>\n",
       "      <td>0</td>\n",
       "      <td>0</td>\n",
       "    </tr>\n",
       "    <tr>\n",
       "      <th>1998</th>\n",
       "      <td>2017</td>\n",
       "      <td>55881</td>\n",
       "      <td>0</td>\n",
       "      <td>0</td>\n",
       "      <td>0</td>\n",
       "      <td>0</td>\n",
       "      <td>0</td>\n",
       "      <td>0</td>\n",
       "      <td>0</td>\n",
       "      <td>0</td>\n",
       "      <td>...</td>\n",
       "      <td>0</td>\n",
       "      <td>0</td>\n",
       "      <td>0</td>\n",
       "      <td>0</td>\n",
       "      <td>0</td>\n",
       "      <td>0</td>\n",
       "      <td>0</td>\n",
       "      <td>0</td>\n",
       "      <td>0</td>\n",
       "      <td>0</td>\n",
       "    </tr>\n",
       "    <tr>\n",
       "      <th>1999</th>\n",
       "      <td>2015</td>\n",
       "      <td>44303</td>\n",
       "      <td>490</td>\n",
       "      <td>0</td>\n",
       "      <td>0</td>\n",
       "      <td>0</td>\n",
       "      <td>0</td>\n",
       "      <td>0</td>\n",
       "      <td>0</td>\n",
       "      <td>1</td>\n",
       "      <td>...</td>\n",
       "      <td>0</td>\n",
       "      <td>0</td>\n",
       "      <td>0</td>\n",
       "      <td>0</td>\n",
       "      <td>0</td>\n",
       "      <td>0</td>\n",
       "      <td>0</td>\n",
       "      <td>0</td>\n",
       "      <td>0</td>\n",
       "      <td>0</td>\n",
       "    </tr>\n",
       "  </tbody>\n",
       "</table>\n",
       "<p>2000 rows × 910 columns</p>\n",
       "</div>"
      ],
      "text/plain": [
       "      year   miles  delivery_fee  make_Acura  make_Alfa Romeo  make_Audi  \\\n",
       "0     2014   53238          1490           0                0          0   \n",
       "1     2015  112160           790           0                0          0   \n",
       "2     2015   57046             0           0                0          0   \n",
       "3     2013  103874           490           0                0          0   \n",
       "4     2015   86301           790           0                0          0   \n",
       "...    ...     ...           ...         ...              ...        ...   \n",
       "1995  2009   89485           490           0                0          0   \n",
       "1996  2020   29226           790           0                0          0   \n",
       "1997  2019   30461          1490           0                0          0   \n",
       "1998  2017   55881             0           0                0          0   \n",
       "1999  2015   44303           490           0                0          0   \n",
       "\n",
       "      make_BMW  make_Buick  make_Cadillac  make_Chevrolet  ...  \\\n",
       "0            0           0              0               0  ...   \n",
       "1            0           0              0               1  ...   \n",
       "2            0           0              0               0  ...   \n",
       "3            0           0              0               0  ...   \n",
       "4            0           0              0               1  ...   \n",
       "...        ...         ...            ...             ...  ...   \n",
       "1995         0           0              0               1  ...   \n",
       "1996         0           0              0               0  ...   \n",
       "1997         0           1              0               0  ...   \n",
       "1998         0           0              0               0  ...   \n",
       "1999         0           0              0               1  ...   \n",
       "\n",
       "      trim_i Touring  trim_s Grand Touring  trim_sDrive28i  trim_sDrive30i  \\\n",
       "0                  0                     0               0               0   \n",
       "1                  0                     0               0               0   \n",
       "2                  0                     0               0               0   \n",
       "3                  0                     0               0               0   \n",
       "4                  0                     0               0               0   \n",
       "...              ...                   ...             ...             ...   \n",
       "1995               0                     0               0               0   \n",
       "1996               0                     0               0               0   \n",
       "1997               0                     0               0               0   \n",
       "1998               0                     0               0               0   \n",
       "1999               0                     0               0               0   \n",
       "\n",
       "      trim_xDrive28i  trim_xDrive35i  trim_xDrive35i Premium  \\\n",
       "0                  0               0                       0   \n",
       "1                  0               0                       0   \n",
       "2                  0               0                       0   \n",
       "3                  0               0                       0   \n",
       "4                  0               0                       0   \n",
       "...              ...             ...                     ...   \n",
       "1995               0               0                       0   \n",
       "1996               0               0                       0   \n",
       "1997               0               0                       0   \n",
       "1998               0               0                       0   \n",
       "1999               0               0                       0   \n",
       "\n",
       "      trim_xDrive35i Sport Activity  trim_xDrive40i  trim_xDrive50i  \n",
       "0                                 0               0               0  \n",
       "1                                 0               0               0  \n",
       "2                                 0               0               0  \n",
       "3                                 0               0               0  \n",
       "4                                 0               0               0  \n",
       "...                             ...             ...             ...  \n",
       "1995                              0               0               0  \n",
       "1996                              0               0               0  \n",
       "1997                              0               0               0  \n",
       "1998                              0               0               0  \n",
       "1999                              0               0               0  \n",
       "\n",
       "[2000 rows x 910 columns]"
      ]
     },
     "execution_count": 9,
     "metadata": {},
     "output_type": "execute_result"
    }
   ],
   "source": [
    "# Create data\n",
    "X = Final_car_price_pred[[\"year\",\"make\",\"model\",\"miles\",\"trim\",\"delivery_fee\"]]\n",
    "\n",
    "X_dummies = pd.get_dummies(X)\n",
    "print(X_dummies.columns)\n",
    "X_dummies"
   ]
  },
  {
   "cell_type": "code",
   "execution_count": 10,
   "id": "8a4fea9d",
   "metadata": {
    "colab": {
     "base_uri": "https://localhost:8080/"
    },
    "id": "8a4fea9d",
    "outputId": "6b7325d7-e378-4bb0-845c-9f587389190a"
   },
   "outputs": [
    {
     "data": {
      "text/plain": [
       "0       15990\n",
       "1       17590\n",
       "2       14990\n",
       "3       18990\n",
       "4       13990\n",
       "        ...  \n",
       "1995    21590\n",
       "1996    37990\n",
       "1997    22590\n",
       "1998    30590\n",
       "1999    15590\n",
       "Name: sold_price, Length: 2000, dtype: int64"
      ]
     },
     "execution_count": 10,
     "metadata": {},
     "output_type": "execute_result"
    }
   ],
   "source": [
    "y = Final_car_price_pred[\"sold_price\"]\n",
    "y"
   ]
  },
  {
   "cell_type": "code",
   "execution_count": 33,
   "id": "85b17dfc",
   "metadata": {
    "id": "85b17dfc"
   },
   "outputs": [],
   "source": [
    "X_train, X_test, y_train, y_test = train_test_split(X_dummies, y, random_state=1)\n",
    "scaler = StandardScaler().fit(X_train)\n",
    "X_train_scaled = scaler.transform(X_train)\n",
    "X_test_scaled = scaler.transform(X_test)\n",
    "data = [X_train_scaled, X_test_scaled, y_train, y_test]"
   ]
  },
  {
   "cell_type": "markdown",
   "id": "a57f3e69",
   "metadata": {},
   "source": [
    "# Random Forest Classifier"
   ]
  },
  {
   "cell_type": "code",
   "execution_count": 12,
   "id": "a4af2a2e",
   "metadata": {
    "colab": {
     "base_uri": "https://localhost:8080/"
    },
    "id": "a4af2a2e",
    "outputId": "49be5110-aa60-4cdd-b30d-1ce3ef7a6c87"
   },
   "outputs": [
    {
     "name": "stdout",
     "output_type": "stream",
     "text": [
      "Training Score: 0.9986666666666667\n",
      "Testing Score: 0.068\n"
     ]
    }
   ],
   "source": [
    "clf = RandomForestClassifier(random_state=1, n_estimators=20).fit(X_train_scaled, y_train)\n",
    "print(f'Training Score: {clf.score(X_train_scaled, y_train)}')\n",
    "print(f'Testing Score: {clf.score(X_test_scaled, y_test)}')"
   ]
  },
  {
   "cell_type": "markdown",
   "id": "d479722d",
   "metadata": {
    "id": "d479722d"
   },
   "source": [
    "Remove the \"sold_price\" column from the dataset to use Unsupervised Machine Learning Algorithms. \n",
    "\n"
   ]
  },
  {
   "cell_type": "markdown",
   "id": "85775bc7",
   "metadata": {},
   "source": [
    "## SVC Model"
   ]
  },
  {
   "cell_type": "code",
   "execution_count": 13,
   "id": "b47f3164",
   "metadata": {},
   "outputs": [
    {
     "data": {
      "text/plain": [
       "SVC(kernel='linear')"
      ]
     },
     "execution_count": 13,
     "metadata": {},
     "output_type": "execute_result"
    }
   ],
   "source": [
    "# Create the SVC model\n",
    "from sklearn.svm import SVC \n",
    "model = SVC(kernel='linear')\n",
    "model"
   ]
  },
  {
   "cell_type": "code",
   "execution_count": 14,
   "id": "386a2aac",
   "metadata": {},
   "outputs": [
    {
     "data": {
      "text/plain": [
       "{'C': [1, 5, 10, 50], 'gamma': [0.0001, 0.0005, 0.001, 0.005]}"
      ]
     },
     "execution_count": 14,
     "metadata": {},
     "output_type": "execute_result"
    }
   ],
   "source": [
    "param_grid = {'C': [1, 5, 10, 50],\n",
    "              'gamma': [0.0001, 0.0005, 0.001, 0.005]}\n",
    "param_grid"
   ]
  },
  {
   "cell_type": "code",
   "execution_count": 15,
   "id": "4720d3a2",
   "metadata": {},
   "outputs": [],
   "source": [
    "from sklearn.model_selection import GridSearchCV\n",
    "grid_clf = GridSearchCV(model, param_grid, verbose=1)"
   ]
  },
  {
   "cell_type": "code",
   "execution_count": 16,
   "id": "11dcb666",
   "metadata": {},
   "outputs": [
    {
     "name": "stdout",
     "output_type": "stream",
     "text": [
      "Fitting 5 folds for each of 16 candidates, totalling 80 fits\n"
     ]
    },
    {
     "name": "stderr",
     "output_type": "stream",
     "text": [
      "/Users/hoobie4792/opt/anaconda3/lib/python3.9/site-packages/sklearn/model_selection/_split.py:676: UserWarning: The least populated class in y has only 1 members, which is less than n_splits=5.\n",
      "  warnings.warn(\n"
     ]
    },
    {
     "data": {
      "text/plain": [
       "GridSearchCV(estimator=SVC(kernel='linear'),\n",
       "             param_grid={'C': [1, 5, 10, 50],\n",
       "                         'gamma': [0.0001, 0.0005, 0.001, 0.005]},\n",
       "             verbose=1)"
      ]
     },
     "execution_count": 16,
     "metadata": {},
     "output_type": "execute_result"
    }
   ],
   "source": [
    "# Fit the model by using the grid search classifier. \n",
    "# This will take the SVC model and try each combination of parameters.\n",
    "grid_clf.fit(X_train_scaled, y_train)"
   ]
  },
  {
   "cell_type": "code",
   "execution_count": 17,
   "id": "2d525e7c",
   "metadata": {},
   "outputs": [
    {
     "name": "stdout",
     "output_type": "stream",
     "text": [
      "{'C': 5, 'gamma': 0.0001}\n"
     ]
    }
   ],
   "source": [
    "# List the best parameters for this dataset\n",
    "print(grid_clf.best_params_)"
   ]
  },
  {
   "cell_type": "code",
   "execution_count": 18,
   "id": "1396e187",
   "metadata": {},
   "outputs": [
    {
     "name": "stdout",
     "output_type": "stream",
     "text": [
      "0.07733333333333334\n"
     ]
    }
   ],
   "source": [
    "# List the best score\n",
    "print(grid_clf.best_score_)"
   ]
  },
  {
   "cell_type": "markdown",
   "id": "67c875c3",
   "metadata": {},
   "source": [
    "# Logistic Regression Model"
   ]
  },
  {
   "cell_type": "code",
   "execution_count": 19,
   "id": "3351331e",
   "metadata": {},
   "outputs": [
    {
     "data": {
      "text/plain": [
       "LogisticRegression()"
      ]
     },
     "execution_count": 19,
     "metadata": {},
     "output_type": "execute_result"
    }
   ],
   "source": [
    "# Train a Logistic Regression model print the model score\n",
    "from sklearn.linear_model import LogisticRegression\n",
    "classifier = LogisticRegression()\n",
    "classifier"
   ]
  },
  {
   "cell_type": "code",
   "execution_count": 20,
   "id": "e8d31985",
   "metadata": {},
   "outputs": [
    {
     "name": "stderr",
     "output_type": "stream",
     "text": [
      "/Users/hoobie4792/opt/anaconda3/lib/python3.9/site-packages/sklearn/linear_model/_logistic.py:814: ConvergenceWarning: lbfgs failed to converge (status=1):\n",
      "STOP: TOTAL NO. of ITERATIONS REACHED LIMIT.\n",
      "\n",
      "Increase the number of iterations (max_iter) or scale the data as shown in:\n",
      "    https://scikit-learn.org/stable/modules/preprocessing.html\n",
      "Please also refer to the documentation for alternative solver options:\n",
      "    https://scikit-learn.org/stable/modules/linear_model.html#logistic-regression\n",
      "  n_iter_i = _check_optimize_result(\n"
     ]
    },
    {
     "data": {
      "text/plain": [
       "LogisticRegression()"
      ]
     },
     "execution_count": 20,
     "metadata": {},
     "output_type": "execute_result"
    }
   ],
   "source": [
    "classifier.fit(X_train_scaled, y_train)"
   ]
  },
  {
   "cell_type": "code",
   "execution_count": 21,
   "id": "4e9b7165",
   "metadata": {},
   "outputs": [
    {
     "name": "stdout",
     "output_type": "stream",
     "text": [
      "Training Data Score: 0.802\n",
      "Testing Data Score: 0.076\n"
     ]
    }
   ],
   "source": [
    "print(f\"Training Data Score: {classifier.score(X_train_scaled, y_train)}\")\n",
    "print(f\"Testing Data Score: {classifier.score(X_test_scaled, y_test)}\")"
   ]
  },
  {
   "cell_type": "markdown",
   "id": "ce0c5984",
   "metadata": {},
   "source": [
    "# Linear Regression"
   ]
  },
  {
   "cell_type": "code",
   "execution_count": 22,
   "id": "73437019",
   "metadata": {},
   "outputs": [],
   "source": [
    "# Create the model by using LinearRegression.\n",
    "from sklearn.linear_model import LinearRegression\n",
    "model = LinearRegression()"
   ]
  },
  {
   "cell_type": "code",
   "execution_count": 23,
   "id": "3a18a9da",
   "metadata": {},
   "outputs": [
    {
     "name": "stdout",
     "output_type": "stream",
     "text": [
      "Training Score: 0.9361293257509127\n",
      "Testing Score: -1.9749831910427433e+27\n"
     ]
    }
   ],
   "source": [
    "# Fit the model to the training data, and calculate the scores for the training and testing data.\n",
    "\n",
    "model.fit(X_train_scaled, y_train)\n",
    "training_score = model.score(X_train_scaled, y_train)\n",
    "testing_score = model.score(X_test_scaled, y_test)\n",
    "\n",
    "print(f\"Training Score: {training_score}\")\n",
    "print(f\"Testing Score: {testing_score}\")"
   ]
  },
  {
   "cell_type": "markdown",
   "id": "fa56524e",
   "metadata": {},
   "source": [
    "Negative Training Score indicates that model is performing worse than just random guessing."
   ]
  },
  {
   "cell_type": "code",
   "execution_count": 24,
   "id": "5390d9fb",
   "metadata": {},
   "outputs": [
    {
     "data": {
      "image/png": "[encoded data removed]",
      "text/plain": [
       "<Figure size 432x288 with 1 Axes>"
      ]
     },
     "metadata": {
      "needs_background": "light"
     },
     "output_type": "display_data"
    }
   ],
   "source": [
    "# Plot the residuals for the training and testing data.\n",
    "\n",
    "plt.scatter(model.predict(X_train_scaled), model.predict(X_train_scaled) - y_train, c=\"blue\", label=\"Training Data\")\n",
    "plt.scatter(model.predict(X_test_scaled), model.predict(X_test_scaled) - y_test, c=\"orange\", label=\"Testing Data\")\n",
    "plt.legend()\n",
    "plt.hlines(y=0, xmin=y.min(), xmax=y.max())\n",
    "plt.title(\"Residual Plot\")\n",
    "plt.show()"
   ]
  },
  {
   "cell_type": "markdown",
   "id": "65ecae6f",
   "metadata": {},
   "source": [
    "# LASSO Model"
   ]
  },
  {
   "cell_type": "code",
   "execution_count": 25,
   "id": "6ba4fde6",
   "metadata": {},
   "outputs": [],
   "source": [
    "%matplotlib inline\n",
    "from matplotlib import pyplot as plt\n",
    "from sklearn.datasets import make_regression\n",
    "import numpy as np\n",
    "import pandas as pd\n",
    "from sklearn.linear_model import LinearRegression, Ridge, Lasso, ElasticNet\n",
    "from sklearn.model_selection import train_test_split\n",
    "from sklearn.preprocessing import StandardScaler"
   ]
  },
  {
   "cell_type": "code",
   "execution_count": 32,
   "id": "1a3e75d5",
   "metadata": {},
   "outputs": [
    {
     "data": {
      "text/plain": [
       "-1.9749831910427433e+27"
      ]
     },
     "execution_count": 32,
     "metadata": {},
     "output_type": "execute_result"
    }
   ],
   "source": [
    "reg = LinearRegression().fit(X_train_scaled, y_train)\n",
    "reg.score(X_test_scaled, y_test)"
   ]
  },
  {
   "cell_type": "code",
   "execution_count": 26,
   "id": "b39f06d1",
   "metadata": {},
   "outputs": [
    {
     "name": "stderr",
     "output_type": "stream",
     "text": [
      "/Users/hoobie4792/opt/anaconda3/lib/python3.9/site-packages/sklearn/linear_model/_coordinate_descent.py:647: ConvergenceWarning: Objective did not converge. You might want to increase the number of iterations, check the scale of the features or consider increasing regularisation. Duality gap: 8.088e+07, tolerance: 1.741e+07\n",
      "  model = cd_fast.enet_coordinate_descent(\n"
     ]
    },
    {
     "data": {
      "text/plain": [
       "0.7275780628250872"
      ]
     },
     "execution_count": 26,
     "metadata": {},
     "output_type": "execute_result"
    }
   ],
   "source": [
    "reg = Lasso().fit(X_train_scaled, y_train)\n",
    "reg.score(X_test_scaled, y_test)"
   ]
  },
  {
   "cell_type": "code",
   "execution_count": 27,
   "id": "2684cd34",
   "metadata": {},
   "outputs": [],
   "source": [
    "from sklearn.feature_selection import SelectFromModel"
   ]
  },
  {
   "cell_type": "code",
   "execution_count": 28,
   "id": "9a78f886",
   "metadata": {},
   "outputs": [
    {
     "name": "stderr",
     "output_type": "stream",
     "text": [
      "/Users/hoobie4792/opt/anaconda3/lib/python3.9/site-packages/sklearn/linear_model/_coordinate_descent.py:647: ConvergenceWarning: Objective did not converge. You might want to increase the number of iterations, check the scale of the features or consider increasing regularisation. Duality gap: 8.088e+07, tolerance: 1.741e+07\n",
      "  model = cd_fast.enet_coordinate_descent(\n"
     ]
    },
    {
     "data": {
      "text/plain": [
       "SelectFromModel(estimator=Lasso())"
      ]
     },
     "execution_count": 28,
     "metadata": {},
     "output_type": "execute_result"
    }
   ],
   "source": [
    "from sklearn.feature_selection import SelectFromModel\n",
    "sel = SelectFromModel(reg)\n",
    "sel.fit(X_train_scaled, y_train)"
   ]
  },
  {
   "cell_type": "code",
   "execution_count": 30,
   "id": "f53d3f96",
   "metadata": {},
   "outputs": [
    {
     "name": "stderr",
     "output_type": "stream",
     "text": [
      "/Users/hoobie4792/opt/anaconda3/lib/python3.9/site-packages/sklearn/base.py:443: UserWarning: X has feature names, but SelectFromModel was fitted without feature names\n",
      "  warnings.warn(\n"
     ]
    }
   ],
   "source": [
    "X_selected_train, X_selected_test, y_train, y_test = train_test_split(sel.transform(X_dummies), y, random_state=1)\n",
    "scaler = StandardScaler().fit(X_selected_train)\n",
    "X_selected_train_scaled = scaler.transform(X_selected_train)\n",
    "X_selected_test_scaled = scaler.transform(X_selected_test)"
   ]
  },
  {
   "cell_type": "code",
   "execution_count": 31,
   "id": "3ab7db2c",
   "metadata": {},
   "outputs": [
    {
     "data": {
      "text/plain": [
       "-5.595015631523607e+26"
      ]
     },
     "execution_count": 31,
     "metadata": {},
     "output_type": "execute_result"
    }
   ],
   "source": [
    "reg = LinearRegression().fit(X_selected_train_scaled, y_train)\n",
    "reg.score(X_selected_test_scaled, y_test)"
   ]
  },
  {
   "cell_type": "markdown",
   "id": "0602211f",
   "metadata": {},
   "source": [
    "# Familar Regressors"
   ]
  },
  {
   "cell_type": "code",
   "execution_count": 36,
   "id": "aa46e40b",
   "metadata": {},
   "outputs": [],
   "source": [
    "%matplotlib inline\n",
    "from matplotlib import pyplot as plt\n",
    "from sklearn.datasets import make_regression, make_swiss_roll\n",
    "import numpy as np\n",
    "import pandas as pd\n",
    "from sklearn.linear_model import LinearRegression, Ridge, Lasso, ElasticNet\n",
    "from sklearn.model_selection import train_test_split\n",
    "from sklearn.preprocessing import StandardScaler"
   ]
  },
  {
   "cell_type": "code",
   "execution_count": 37,
   "id": "e2f37950",
   "metadata": {},
   "outputs": [],
   "source": [
    "from sklearn.neighbors import KNeighborsRegressor\n",
    "from sklearn.ensemble import RandomForestRegressor, ExtraTreesRegressor, AdaBoostRegressor\n",
    "from sklearn.svm import SVR"
   ]
  },
  {
   "cell_type": "code",
   "execution_count": 39,
   "id": "5a60af89",
   "metadata": {},
   "outputs": [],
   "source": [
    "def test_model(model, data):\n",
    "    X_train_scaled, X_test_scaled, y_train, y_test = data\n",
    "    reg = model.fit(X_train_scaled, y_train)\n",
    "    print(f'Model: {type(reg).__name__}')\n",
    "    print(f'Train score: {reg.score(X_train_scaled, y_train)}')\n",
    "    print(f'Test Score: {reg.score(X_test_scaled, y_test)}\\n')\n",
    "    plt.show()"
   ]
  },
  {
   "cell_type": "code",
   "execution_count": 40,
   "id": "2874b543",
   "metadata": {},
   "outputs": [
    {
     "name": "stdout",
     "output_type": "stream",
     "text": [
      "Model: LinearRegression\n",
      "Train score: 0.9361293257509127\n",
      "Test Score: -1.9749831910427433e+27\n",
      "\n",
      "Model: KNeighborsRegressor\n",
      "Train score: 0.3847293694034717\n",
      "Test Score: 0.056028708521581705\n",
      "\n",
      "Model: RandomForestRegressor\n",
      "Train score: 0.9446349412560111\n",
      "Test Score: 0.582523128428597\n",
      "\n",
      "Model: ExtraTreesRegressor\n",
      "Train score: 0.9999999816149854\n",
      "Test Score: 0.6601565242414031\n",
      "\n",
      "Model: AdaBoostRegressor\n",
      "Train score: -0.3016673380845689\n",
      "Test Score: -0.4639895215662446\n",
      "\n",
      "Model: SVR\n",
      "Train score: -0.0750182338988099\n",
      "Test Score: -0.05217321123976837\n",
      "\n"
     ]
    }
   ],
   "source": [
    "test_model(LinearRegression(), data)\n",
    "\n",
    "test_model(KNeighborsRegressor(), data)\n",
    "test_model(RandomForestRegressor(), data)\n",
    "test_model(ExtraTreesRegressor(), data)\n",
    "test_model(AdaBoostRegressor(), data)\n",
    "test_model(SVR(C=1.0, epsilon=0.2), data)"
   ]
  },
  {
   "cell_type": "markdown",
   "id": "2238296b",
   "metadata": {},
   "source": [
    "# Ridge Model"
   ]
  },
  {
   "cell_type": "code",
   "execution_count": 45,
   "id": "22bd7190",
   "metadata": {},
   "outputs": [
    {
     "name": "stdout",
     "output_type": "stream",
     "text": [
      "{'alpha': 100}\n",
      "-1.100704994003196\n"
     ]
    }
   ],
   "source": []
  },
  {
   "cell_type": "code",
   "execution_count": null,
   "id": "b909da6d",
   "metadata": {},
   "outputs": [],
   "source": []
  }
 ],
 "metadata": {
  "colab": {
   "collapsed_sections": [
    "b1b05a2d"
   ],
   "provenance": []
  },
  "kernelspec": {
   "display_name": "Python 3 (ipykernel)",
   "language": "python",
   "name": "python3"
  },
  "language_info": {
   "codemirror_mode": {
    "name": "ipython",
    "version": 3
   },
   "file_extension": ".py",
   "mimetype": "text/x-python",
   "name": "python",
   "nbconvert_exporter": "python",
   "pygments_lexer": "ipython3",
   "version": "3.9.12"
  }
 },
 "nbformat": 4,
 "nbformat_minor": 5
}
